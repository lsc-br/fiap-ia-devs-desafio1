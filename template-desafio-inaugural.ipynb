{
 "cells": [
  {
   "cell_type": "markdown",
   "id": "a11378c9-edbb-42ae-90c7-275229a00fb5",
   "metadata": {},
   "source": [
    "# FIAP - Pós Tech IA para Devs\n",
    "## Desafio Aula Inagural : Previsão de evasão escolar\n",
    "### Professora: Poliana Ferreira \n",
    "Atividade prática de classificação, cujo objetivo é desenvolver um modelo capazes de identificar se um aluno tem maior chance de abandonar os estudos (Dropout) ou de se formar (Graduate). Você deve ter acurácia >= 90% e recall do dropout >=e 80% \n",
    "Vocês devem seguir os passos nos comentários desse notebook. Lembrem-se, vocês podem adicionar coisas, mas não podem tirar! :) \n",
    "\n",
    "Base de dados: https://github.com/pnferreira/fiap-ia-devs/blob/main/dropout-inaugural.csv\n",
    "\n",
    "Target: \"Dropout\" ou \"Graduate\"\n"
   ]
  },
  {
   "cell_type": "code",
   "execution_count": 1,
   "id": "b9abaebc-f8e6-4874-8846-b76b3d9fcdb5",
   "metadata": {},
   "outputs": [],
   "source": [
    "# importar as bibliotecas necessárias - pandas, sklearn, matplotlib, seaborn\n"
   ]
  },
  {
   "cell_type": "code",
   "execution_count": 2,
   "id": "380ab061-c768-4bc3-803a-bd3b16afff18",
   "metadata": {},
   "outputs": [],
   "source": [
    "# importar a base de dados\n"
   ]
  },
  {
   "cell_type": "code",
   "execution_count": 3,
   "id": "c50400a5-0615-403b-b9a7-d2e055dec84d",
   "metadata": {},
   "outputs": [],
   "source": [
    "# visualizar as primeiras linhas da base de dados\n"
   ]
  },
  {
   "cell_type": "code",
   "execution_count": 4,
   "id": "7f51b3ff-840e-4d58-9541-6f2c8acd3e49",
   "metadata": {},
   "outputs": [],
   "source": [
    "# visualizar as informações da base de dados\n"
   ]
  },
  {
   "cell_type": "code",
   "execution_count": 5,
   "id": "d4f13625-002f-4fc8-b4b7-a0a0d0fbdf71",
   "metadata": {},
   "outputs": [],
   "source": [
    "# ver os valores da coluna Target - que queremos prever\n"
   ]
  },
  {
   "cell_type": "code",
   "execution_count": 6,
   "id": "d81b9b4e-a0fd-49fb-888d-834dc1dd4493",
   "metadata": {},
   "outputs": [],
   "source": [
    "# tratar dados nulos\n",
    "\n",
    "# tratar dados duplicados\n",
    "\n",
    "# outras formas de pré-processamento (OPCIONAL - ex.: seleção de características, normalização, tratamento de outliers, balanceamento do target...)\n",
    "# pode ser nessa célula ou nas seguintes, a depender do que você escolher fazer\n"
   ]
  },
  {
   "cell_type": "code",
   "execution_count": 7,
   "id": "f6c7afad-7ad8-4d24-9a73-4300d83433ed",
   "metadata": {},
   "outputs": [],
   "source": [
    "# análise exploratória: crie uma pergunta sobre a base de dados e responda através de um gráfico\n"
   ]
  },
  {
   "cell_type": "code",
   "execution_count": 8,
   "id": "1eea278f-b1bc-43ad-af9e-46ec7644889f",
   "metadata": {},
   "outputs": [],
   "source": [
    "# divisão entre caracterísiticas (X) e rótulo (y)\n",
    "\n",
    "# divisão entre treino e teste - 70% e 30%\n"
   ]
  },
  {
   "cell_type": "code",
   "execution_count": 9,
   "id": "d958f4be-ba66-4eed-bc83-9a874aee18ea",
   "metadata": {},
   "outputs": [],
   "source": [
    "# treinamento de modelo de classificação a sua escolha (um ou mais)\n"
   ]
  },
  {
   "cell_type": "code",
   "execution_count": 10,
   "id": "6611ca4b-4806-47c8-9492-596d1c177886",
   "metadata": {},
   "outputs": [],
   "source": [
    "# avaliação do modelo com dados de teste \n",
    "#(para ser considerado resultado satisfatório, você deve alcançar no mínimo 90% de acurácia e 80% de recall do Dropout)\n"
   ]
  },
  {
   "cell_type": "code",
   "execution_count": null,
   "id": "df85bb9e-2c12-4715-9221-010939dabf91",
   "metadata": {},
   "outputs": [],
   "source": []
  }
 ],
 "metadata": {
  "kernelspec": {
   "display_name": "Python 3 (ipykernel)",
   "language": "python",
   "name": "python3"
  },
  "language_info": {
   "codemirror_mode": {
    "name": "ipython",
    "version": 3
   },
   "file_extension": ".py",
   "mimetype": "text/x-python",
   "name": "python",
   "nbconvert_exporter": "python",
   "pygments_lexer": "ipython3",
   "version": "3.10.0"
  }
 },
 "nbformat": 4,
 "nbformat_minor": 5
}
